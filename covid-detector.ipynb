{
 "cells": [
  {
   "cell_type": "code",
   "execution_count": 1,
   "id": "roman-principle",
   "metadata": {
    "_cell_guid": "b1076dfc-b9ad-4769-8c92-a6c4dae69d19",
    "_uuid": "8f2839f25d086af736a60e9eeb907d3b93b6e0e5",
    "execution": {
     "iopub.execute_input": "2021-05-24T17:11:07.013896Z",
     "iopub.status.busy": "2021-05-24T17:11:07.012834Z",
     "iopub.status.idle": "2021-05-24T17:11:13.074452Z",
     "shell.execute_reply": "2021-05-24T17:11:13.073451Z",
     "shell.execute_reply.started": "2021-05-24T16:52:49.418615Z"
    },
    "papermill": {
     "duration": 6.082267,
     "end_time": "2021-05-24T17:11:13.074750",
     "exception": false,
     "start_time": "2021-05-24T17:11:06.992483",
     "status": "completed"
    },
    "tags": []
   },
   "outputs": [],
   "source": [
    "# This Python 3 environment comes with many helpful analytics libraries installed\n",
    "# It is defined by the kaggle/python Docker image: https://github.com/kaggle/docker-python\n",
    "# For example, here's several helpful packages to load\n",
    "\n",
    "import numpy as np # linear algebra\n",
    "import pandas as pd # data processing, CSV file I/O (e.g. pd.read_csv)\n",
    "from pathlib import Path\n",
    "\n",
    "from keras.preprocessing import image\n",
    "from keras.applications import vgg16\n",
    "import joblib\n",
    "\n",
    "\n",
    "\n",
    "\n",
    "# Input data files are available in the read-only \"../input/\" directory\n",
    "# For example, running this (by clicking run or pressing Shift+Enter) will list all files under the input directory\n",
    "\n",
    "\n",
    "\n",
    "\n",
    "\n",
    "# You can write up to 20GB to the current directory (/kaggle/working/) that gets preserved as output when you create a version using \"Save & Run All\" \n",
    "# You can also write temporary files to /kaggle/temp/, but they won't be saved outside of the current session"
   ]
  },
  {
   "cell_type": "code",
   "execution_count": 2,
   "id": "recognized-trick",
   "metadata": {
    "execution": {
     "iopub.execute_input": "2021-05-24T17:11:13.097228Z",
     "iopub.status.busy": "2021-05-24T17:11:13.096465Z",
     "iopub.status.idle": "2021-05-24T17:20:28.885073Z",
     "shell.execute_reply": "2021-05-24T17:20:28.885649Z",
     "shell.execute_reply.started": "2021-05-24T16:52:54.457353Z"
    },
    "papermill": {
     "duration": 555.804927,
     "end_time": "2021-05-24T17:20:28.885884",
     "exception": false,
     "start_time": "2021-05-24T17:11:13.080957",
     "status": "completed"
    },
    "tags": []
   },
   "outputs": [
    {
     "name": "stdout",
     "output_type": "stream",
     "text": [
      "adding on\n",
      "pretraining is done............................\n"
     ]
    }
   ],
   "source": [
    "covid_pneumonia= Path(\"../input/covid-wwo-pneumonia-chest-xray/Data/train/covid_with_PNEUMONIA\")\n",
    "covid_non_pneumonia=Path(\"../input/covid-wwo-pneumonia-chest-xray/Data/train/covid_without_PNEUMONIA\")\n",
    "images=[]\n",
    "labels=[]\n",
    "print('adding on')\n",
    "\n",
    "# 1 => Covid_pneumonia\n",
    "# 0 => covid_non_pneumonia\n",
    "\n",
    "for i in covid_pneumonia.glob(\"*.jpeg\"):\n",
    "    image_data= image.load_img(i,target_size=(700,700))\n",
    "    i_array= image.img_to_array(image_data)\n",
    "    images.append(i_array)\n",
    "    labels.append(1)\n",
    "\n",
    "for i in covid_non_pneumonia.glob(\"*.jpeg\"):\n",
    "    \n",
    "    \n",
    "    image_data= image.load_img(i,target_size=(700,700))\n",
    "    i_array= image.img_to_array(image_data)\n",
    "    images.append(i_array)\n",
    "    labels.append(0)\n",
    "\n",
    "\n",
    "\n",
    "\n",
    "x_train= np.array(images)\n",
    "y_train= np.array(labels)\n",
    "\n",
    "\n",
    "#call vgg16 model\n",
    "x_train = vgg16.preprocess_input(x_train)\n",
    "pretrained_model= vgg16.VGG16(weights=\"../input/vgg16-weights/vgg16_weights_tf_dim_ordering_tf_kernels_notop.h5\",input_shape=(700,700,3),include_top=False)\n",
    "\n",
    "features_x= pretrained_model.predict(x_train)\n",
    "\n",
    "print('pretraining is done............................')"
   ]
  },
  {
   "cell_type": "code",
   "execution_count": 3,
   "id": "accepted-furniture",
   "metadata": {
    "execution": {
     "iopub.execute_input": "2021-05-24T17:20:28.911847Z",
     "iopub.status.busy": "2021-05-24T17:20:28.911174Z",
     "iopub.status.idle": "2021-05-24T17:20:40.334112Z",
     "shell.execute_reply": "2021-05-24T17:20:40.333510Z",
     "shell.execute_reply.started": "2021-05-24T17:02:06.573637Z"
    },
    "papermill": {
     "duration": 11.442122,
     "end_time": "2021-05-24T17:20:40.334285",
     "exception": false,
     "start_time": "2021-05-24T17:20:28.892163",
     "status": "completed"
    },
    "tags": []
   },
   "outputs": [
    {
     "name": "stdout",
     "output_type": "stream",
     "text": [
      "Epoch 1/10\n",
      "12/12 [==============================] - 1s 24ms/step - loss: 60.0360 - accuracy: 0.7051\n",
      "Epoch 2/10\n",
      "12/12 [==============================] - 0s 26ms/step - loss: 12.4532 - accuracy: 0.8938\n",
      "Epoch 3/10\n",
      "12/12 [==============================] - 0s 28ms/step - loss: 3.6576 - accuracy: 0.9491\n",
      "Epoch 4/10\n",
      "12/12 [==============================] - 0s 25ms/step - loss: 1.6055 - accuracy: 0.9595\n",
      "Epoch 5/10\n",
      "12/12 [==============================] - 0s 20ms/step - loss: 0.5389 - accuracy: 0.9841\n",
      "Epoch 6/10\n",
      "12/12 [==============================] - 0s 20ms/step - loss: 0.1492 - accuracy: 0.9823\n",
      "Epoch 7/10\n",
      "12/12 [==============================] - 0s 20ms/step - loss: 0.5717 - accuracy: 0.9803\n",
      "Epoch 8/10\n",
      "12/12 [==============================] - 0s 20ms/step - loss: 0.0758 - accuracy: 0.9929\n",
      "Epoch 9/10\n",
      "12/12 [==============================] - 0s 20ms/step - loss: 0.1401 - accuracy: 0.9879\n",
      "Epoch 10/10\n",
      "12/12 [==============================] - 0s 19ms/step - loss: 0.0218 - accuracy: 0.9983\n",
      "model is saved successfully\n",
      "Downloading data from https://storage.googleapis.com/tensorflow/keras-applications/vgg16/vgg16_weights_tf_dim_ordering_tf_kernels_notop.h5\n",
      "58892288/58889256 [==============================] - 1s 0us/step\n",
      "The predicted analysis for image is  covid_non_pneumonia\n"
     ]
    }
   ],
   "source": [
    "from keras.models import Sequential\n",
    "from keras.layers import Dense,Dropout,Flatten\n",
    "\n",
    "model = Sequential()\n",
    "model.add(Flatten())\n",
    "model.add(Dense(256,activation=\"relu\"))\n",
    "model.add(Dropout(0.5))\n",
    "model.add(Dense(1,activation=\"sigmoid\"))\n",
    "\n",
    "model.compile(\n",
    "    loss=\"binary_crossentropy\",\n",
    "    optimizer=\"adam\",\n",
    "    metrics=[\"accuracy\"]\n",
    ")\n",
    "\n",
    "#train the model\n",
    "\n",
    "model.fit(features_x,y_train,epochs=10,shuffle=True)\n",
    "\n",
    "#predict the value\n",
    "#image_data= image.load_img('../input/covid-wwo-pneumonia-chest-xray/Data/test/covid_with_PNEUMONIA/cwp(1).jpeg',target_size=(700,700))\n",
    "#i_array= image.img_to_array(image_data)\n",
    "#x_test= np.expand_dims(i_array,axis=0)\n",
    "#print('the predicted value is ',model.predict(x_test))\n",
    "\n",
    "\n",
    "model_structure = model.to_json()\n",
    "f = Path(\"./pretrained_model_structure.json\")\n",
    "f.write_text(model_structure)\n",
    "\n",
    "model.save_weights(\"./pretrained_model_weights.h5\")\n",
    "\n",
    "print('model is saved successfully')\n",
    "\n",
    "\n",
    "img= image.load_img('../input/covid-wwo-pneumonia-chest-xray/Data/test/covid_with_PNEUMONIA/cwp(1).jpeg',target_size=(700,700))\n",
    "img_arr= image.img_to_array(img)\n",
    "img_arr= vgg16.preprocess_input(img_arr)\n",
    "features_extracted_model= vgg16.VGG16(weights=\"imagenet\",input_shape=(700,700,3),include_top=False)\n",
    "img_arr= np.expand_dims(img_arr,axis=0)\n",
    "features=features_extracted_model.predict(img_arr)\n",
    "z = {0:'covid_non_pneumonia',1:'Covid_pneumonia'}\n",
    "print('The predicted analysis for image is ',z[int(model.predict(features)[0])])\n",
    "\n",
    "\n",
    "\n"
   ]
  },
  {
   "cell_type": "code",
   "execution_count": 4,
   "id": "portuguese-conjunction",
   "metadata": {
    "execution": {
     "iopub.execute_input": "2021-05-24T17:20:40.414503Z",
     "iopub.status.busy": "2021-05-24T17:20:40.413848Z",
     "iopub.status.idle": "2021-05-24T17:22:30.761487Z",
     "shell.execute_reply": "2021-05-24T17:22:30.762033Z",
     "shell.execute_reply.started": "2021-05-24T17:02:16.939816Z"
    },
    "papermill": {
     "duration": 110.392969,
     "end_time": "2021-05-24T17:22:30.762220",
     "exception": false,
     "start_time": "2021-05-24T17:20:40.369251",
     "status": "completed"
    },
    "tags": []
   },
   "outputs": [
    {
     "name": "stdout",
     "output_type": "stream",
     "text": [
      "checking test data...........\n",
      "Test accuracy of model is 0.9577465057373047\n"
     ]
    }
   ],
   "source": [
    "covid_pneumonia= Path(\"../input/covid-wwo-pneumonia-chest-xray/Data/test/covid_with_PNEUMONIA\")\n",
    "covid_non_pneumonia=Path(\"../input/covid-wwo-pneumonia-chest-xray/Data/test/covid_without_PNEUMONIA\")\n",
    "images=[]\n",
    "labels=[]\n",
    "print('checking test data...........')\n",
    "\n",
    "# 0 => Covid_pneumonia\n",
    "# 1 => covid_non_pneumonia\n",
    "\n",
    "for i in covid_pneumonia.glob(\"*.jpeg\"):\n",
    "    image_data= image.load_img(i,target_size=(700,700))\n",
    "    i_array= image.img_to_array(image_data)\n",
    "    images.append(i_array)\n",
    "    labels.append(1)\n",
    "\n",
    "for i in covid_non_pneumonia.glob(\"*.jpeg\"):\n",
    "    \n",
    "    \n",
    "    image_data= image.load_img(i,target_size=(700,700))\n",
    "    i_array= image.img_to_array(image_data)\n",
    "    images.append(i_array)\n",
    "    labels.append(0)\n",
    "\n",
    "x_test= np.array(images)\n",
    "y_test= np.array(labels)\n",
    "#call vgg16 model\n",
    "x_test = vgg16.preprocess_input(x_test)\n",
    "pretrained_model= vgg16.VGG16(weights=\"../input/vgg16-weights/vgg16_weights_tf_dim_ordering_tf_kernels_notop.h5\",input_shape=(700,700,3),include_top=False)\n",
    "features_x= pretrained_model.predict(x_test)\n",
    "\n",
    "score = model.evaluate(features_x,y_test,verbose=0)\n",
    "\n",
    "print(f'Test accuracy of model is {str(score[1])}')\n",
    "\n",
    "\n",
    "\n",
    "\n",
    "    \n"
   ]
  },
  {
   "cell_type": "code",
   "execution_count": null,
   "id": "quality-breakdown",
   "metadata": {
    "papermill": {
     "duration": 0.035096,
     "end_time": "2021-05-24T17:22:30.832820",
     "exception": false,
     "start_time": "2021-05-24T17:22:30.797724",
     "status": "completed"
    },
    "tags": []
   },
   "outputs": [],
   "source": []
  }
 ],
 "metadata": {
  "kernelspec": {
   "display_name": "Python 3",
   "language": "python",
   "name": "python3"
  },
  "language_info": {
   "codemirror_mode": {
    "name": "ipython",
    "version": 3
   },
   "file_extension": ".py",
   "mimetype": "text/x-python",
   "name": "python",
   "nbconvert_exporter": "python",
   "pygments_lexer": "ipython3",
   "version": "3.7.10"
  },
  "papermill": {
   "default_parameters": {},
   "duration": 693.98007,
   "end_time": "2021-05-24T17:22:33.344576",
   "environment_variables": {},
   "exception": null,
   "input_path": "__notebook__.ipynb",
   "output_path": "__notebook__.ipynb",
   "parameters": {},
   "start_time": "2021-05-24T17:10:59.364506",
   "version": "2.3.3"
  }
 },
 "nbformat": 4,
 "nbformat_minor": 5
}
